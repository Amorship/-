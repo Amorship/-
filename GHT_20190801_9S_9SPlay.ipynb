{
 "cells": [
  {
   "cell_type": "markdown",
   "metadata": {},
   "source": [
    "# 讀取檔案"
   ]
  },
  {
   "cell_type": "code",
   "execution_count": 26,
   "metadata": {},
   "outputs": [],
   "source": [
    "import numpy as np\n",
    "import pandas as pd"
   ]
  },
  {
   "cell_type": "code",
   "execution_count": 27,
   "metadata": {},
   "outputs": [],
   "source": [
    "# 如果有遇到編碼問題加入encoding=\"unicode_escape\"可以解決\n",
    "\n",
    "df_train_x = pd.read_csv(\"1905_TrainX.csv\", index_col = \"UID\")\n",
    "df_train_y = pd.read_csv(\"1906_TrainY.csv\", index_col = \"UID\")"
   ]
  },
  {
   "cell_type": "code",
   "execution_count": 28,
   "metadata": {},
   "outputs": [],
   "source": [
    "# 預測資料\n",
    "\n",
    "df_test_x = pd.read_csv(\"1906_TestX.csv\", index_col = \"UID\")\n",
    "df_test_y = pd.read_csv(\"1907_TestY.csv\", index_col = \"UID\")"
   ]
  },
  {
   "cell_type": "markdown",
   "metadata": {},
   "source": [
    "# 看資料型態及狀態"
   ]
  },
  {
   "cell_type": "code",
   "execution_count": 29,
   "metadata": {},
   "outputs": [
    {
     "data": {
      "text/plain": [
       "(1138, 14)"
      ]
     },
     "execution_count": 29,
     "metadata": {},
     "output_type": "execute_result"
    }
   ],
   "source": [
    "df_train_x.shape"
   ]
  },
  {
   "cell_type": "code",
   "execution_count": 30,
   "metadata": {},
   "outputs": [
    {
     "data": {
      "text/plain": [
       "FirstVIPKind                object\n",
       "VIPGetTime                   int64\n",
       "LastLogDate                  int64\n",
       "TotalPay                     int64\n",
       "TotalPay_-2                  int64\n",
       "TotalPay_-1                  int64\n",
       "TotalPay_All                 int64\n",
       "LastPayDate                float64\n",
       "LastLogDate-LastPayDate    float64\n",
       "PayTotalCount_N              int64\n",
       "PayTotalCount_-2             int64\n",
       "PayTotalCount_-1             int64\n",
       "PayTotalCount_All            int64\n",
       "ARPPU                      float64\n",
       "dtype: object"
      ]
     },
     "execution_count": 30,
     "metadata": {},
     "output_type": "execute_result"
    }
   ],
   "source": [
    "df_train_x.dtypes"
   ]
  },
  {
   "cell_type": "code",
   "execution_count": 31,
   "metadata": {},
   "outputs": [
    {
     "data": {
      "text/plain": [
       "FirstVIPKind                object\n",
       "VIPGetTime                   int64\n",
       "LastLogDate                  int64\n",
       "TotalPay                     int64\n",
       "TotalPay_-2                  int64\n",
       "TotalPay_-1                  int64\n",
       "TotalPay_All                 int64\n",
       "LastPayDate                float64\n",
       "LastLogDate-LastPayDate    float64\n",
       "PayTotalCount_N              int64\n",
       "PayTotalCount_-2             int64\n",
       "PayTotalCount_-1             int64\n",
       "PayTotalCount_All            int64\n",
       "ARPPU                      float64\n",
       "dtype: object"
      ]
     },
     "execution_count": 31,
     "metadata": {},
     "output_type": "execute_result"
    }
   ],
   "source": [
    "df_test_x.dtypes"
   ]
  },
  {
   "cell_type": "markdown",
   "metadata": {},
   "source": [
    "# 資料前處理"
   ]
  },
  {
   "cell_type": "code",
   "execution_count": 32,
   "metadata": {},
   "outputs": [],
   "source": [
    "#轉類別型態\n",
    "\n",
    "mapping = {'PayDay_10000': 1,\n",
    "           'PayMonth_30000': 2,\n",
    "           'PayStack_50000': 3,\n",
    "           'OtherGameVIP': 4,\n",
    "          }\n",
    "df_train_x['FirstVIPKind'] = df_train_x['FirstVIPKind'].map(mapping)"
   ]
  },
  {
   "cell_type": "code",
   "execution_count": 33,
   "metadata": {},
   "outputs": [],
   "source": [
    "# 預測資料轉類別型態\n",
    "\n",
    "mapping = {'PayDay_10000': 1,\n",
    "           'PayMonth_30000': 2,\n",
    "           'PayStack_50000': 3,\n",
    "           'OtherGameVIP': 4,\n",
    "          }\n",
    "df_test_x['FirstVIPKind'] = df_train_x['FirstVIPKind'].map(mapping)"
   ]
  },
  {
   "cell_type": "code",
   "execution_count": 34,
   "metadata": {},
   "outputs": [],
   "source": [
    "# 設定欄位為 datatime 格式\n",
    "\n",
    "# df_train_x['VIPGetTime'] = pd.to_datetime(df_train_x['VIPGetTime'])\n",
    "# df_train_x['LastLogDate'] = pd.to_datetime(df_train_x['LastLogDate'])\n",
    "# df_train_x['LastPayDate'] = pd.to_datetime(df_train_x['LastPayDate'])"
   ]
  },
  {
   "cell_type": "markdown",
   "metadata": {},
   "source": [
    "# Xgboost (可類別可數值)"
   ]
  },
  {
   "cell_type": "code",
   "execution_count": 35,
   "metadata": {},
   "outputs": [],
   "source": [
    "from sklearn.model_selection import train_test_split\n",
    "import xgboost as xgb\n",
    "from xgboost import plot_importance\n",
    "import matplotlib.pyplot as plt"
   ]
  },
  {
   "cell_type": "code",
   "execution_count": 36,
   "metadata": {},
   "outputs": [],
   "source": [
    "y = df_train_y\n",
    "\n",
    "x1, x2, y1, y2 = train_test_split(df_train_x, y, test_size=0.3, random_state=99) #隨機切割資料集和測試集\n",
    "dtrain = xgb.DMatrix(x1, y1) #DMatrix格式的數據為XGBoost二進制格式，可提高運行速度\n",
    "dvalid = xgb.DMatrix(x2, y2) "
   ]
  },
  {
   "cell_type": "code",
   "execution_count": 37,
   "metadata": {},
   "outputs": [],
   "source": [
    "#xg_reg = xgb.XGBRegressor( \n",
    "# learning_rate =0.07,\n",
    "# n_estimators=1400,\n",
    "# max_depth=8,\n",
    "# min_child_weight=1,\n",
    "# gamma=0.1,\n",
    "# subsample=0.6,\n",
    "# reg_alpha= 2,\n",
    "# reg_lambda= 1,\n",
    "# colsample_bytree=0.9,\n",
    "# nthread=4,\n",
    "# scale_pos_weight=1,\n",
    "# seed=0)"
   ]
  },
  {
   "cell_type": "code",
   "execution_count": 38,
   "metadata": {},
   "outputs": [
    {
     "name": "stdout",
     "output_type": "stream",
     "text": [
      "[03:57:29] Tree method is selected to be 'hist', which uses a single updater grow_fast_histmaker.\n",
      "[0]\ttrain-auc:0.75043\tvalid-auc:0.713436\n",
      "Multiple eval metrics have been passed: 'valid-auc' will be used for early stopping.\n",
      "\n",
      "Will train until valid-auc hasn't improved in 30 rounds.\n",
      "[5]\ttrain-auc:0.82668\tvalid-auc:0.779356\n",
      "[10]\ttrain-auc:0.887193\tvalid-auc:0.875438\n",
      "[15]\ttrain-auc:0.887944\tvalid-auc:0.868967\n",
      "[20]\ttrain-auc:0.890021\tvalid-auc:0.872282\n",
      "[25]\ttrain-auc:0.893993\tvalid-auc:0.864618\n",
      "[30]\ttrain-auc:0.900428\tvalid-auc:0.869178\n",
      "[35]\ttrain-auc:0.906337\tvalid-auc:0.872142\n",
      "[40]\ttrain-auc:0.912589\tvalid-auc:0.877087\n",
      "[45]\ttrain-auc:0.917253\tvalid-auc:0.878525\n",
      "[50]\ttrain-auc:0.918053\tvalid-auc:0.884347\n",
      "[55]\ttrain-auc:0.920781\tvalid-auc:0.894238\n",
      "[60]\ttrain-auc:0.925092\tvalid-auc:0.899446\n",
      "[65]\ttrain-auc:0.928365\tvalid-auc:0.900884\n",
      "[70]\ttrain-auc:0.929946\tvalid-auc:0.904391\n",
      "[75]\ttrain-auc:0.932667\tvalid-auc:0.903444\n",
      "[80]\ttrain-auc:0.934646\tvalid-auc:0.907109\n",
      "[85]\ttrain-auc:0.937361\tvalid-auc:0.907916\n",
      "[90]\ttrain-auc:0.938886\tvalid-auc:0.907302\n",
      "[95]\ttrain-auc:0.940657\tvalid-auc:0.90881\n",
      "[100]\ttrain-auc:0.94261\tvalid-auc:0.912423\n",
      "[105]\ttrain-auc:0.944514\tvalid-auc:0.910774\n",
      "[110]\ttrain-auc:0.947852\tvalid-auc:0.912107\n",
      "[115]\ttrain-auc:0.949682\tvalid-auc:0.912809\n",
      "[120]\ttrain-auc:0.951276\tvalid-auc:0.913861\n",
      "[125]\ttrain-auc:0.953706\tvalid-auc:0.914247\n",
      "[130]\ttrain-auc:0.954996\tvalid-auc:0.913931\n",
      "[135]\ttrain-auc:0.957325\tvalid-auc:0.914352\n",
      "[140]\ttrain-auc:0.959487\tvalid-auc:0.914667\n",
      "[145]\ttrain-auc:0.960297\tvalid-auc:0.914422\n",
      "[150]\ttrain-auc:0.961702\tvalid-auc:0.914282\n",
      "[155]\ttrain-auc:0.962257\tvalid-auc:0.913931\n",
      "[160]\ttrain-auc:0.963903\tvalid-auc:0.913475\n",
      "[165]\ttrain-auc:0.965501\tvalid-auc:0.913194\n",
      "Stopping. Best iteration:\n",
      "[138]\ttrain-auc:0.958873\tvalid-auc:0.915299\n",
      "\n"
     ]
    }
   ],
   "source": [
    "params = {'eta': 0.07, #學習率，可控制過擬合\n",
    "          'tree_method': \"hist\",\n",
    "          'grow_policy': \"lossguide\",\n",
    "          'max_leaves': 1400,  \n",
    "          'max_depth': 3, #樹的深度\n",
    "          'subsample': 0.7, #採取Y樣本比例，可預防過擬合\n",
    "          'colsample_bytree': 0.7, #採取特徵樣本比例\n",
    "          'lambda': 8, #L2懲罰項目，越大越不容易過擬合\n",
    "          'colsample_bylevel':0.7, #採取子節點樣本比例\n",
    "          'min_child_weight':0, #子節點的樣子權重合，可以調整擬合\n",
    "          'objective': 'binary:logistic', #採用二元分類羅吉斯，輸出為機率 \n",
    "          'scale_pos_weight':99,\n",
    "          'eval_metric': 'auc', #檢查預測結果\n",
    "          'nthread':10, #線程數\n",
    "          'random_state': 99, \n",
    "          'silent': True}\n",
    "\n",
    "watchlist = [(dtrain, 'train'), (dvalid, 'valid')]\n",
    "model = xgb.train(params, dtrain, 250, watchlist, maximize=True, early_stopping_rounds = 30, verbose_eval=5)"
   ]
  },
  {
   "cell_type": "code",
   "execution_count": 39,
   "metadata": {},
   "outputs": [
    {
     "data": {
      "image/png": "[encoded data removed]",
      "text/plain": [
       "<Figure size 432x288 with 1 Axes>"
      ]
     },
     "metadata": {
      "needs_background": "light"
     },
     "output_type": "display_data"
    }
   ],
   "source": [
    "#畫出模型相關係數圖\n",
    "\n",
    "ax = xgb.plot_importance(model, max_num_features=300)\n",
    "# plt.savefig('test%d.png'%(fileno), dpi=600,bbox_inches=\"tight\")\n",
    "plt.show()"
   ]
  },
  {
   "cell_type": "code",
   "execution_count": 40,
   "metadata": {},
   "outputs": [
    {
     "data": {
      "text/plain": [
       "(1138, 14)"
      ]
     },
     "execution_count": 40,
     "metadata": {},
     "output_type": "execute_result"
    }
   ],
   "source": [
    "#再看一次狀態確認是否可以比對\n",
    "\n",
    "df_train_x.shape\n",
    "#df_test_x.shape"
   ]
  },
  {
   "cell_type": "code",
   "execution_count": 41,
   "metadata": {},
   "outputs": [],
   "source": [
    "#把真實值裝入Sub中\n",
    "\n",
    "sub = pd.DataFrame()\n",
    "sub['SurvivalStatus'] = df_test_y['SurvivalStatus'].astype('int')"
   ]
  },
  {
   "cell_type": "code",
   "execution_count": 43,
   "metadata": {},
   "outputs": [
    {
     "ename": "PermissionError",
     "evalue": "[Errno 13] Permission denied: 'Xgb_Test001.csv'",
     "output_type": "error",
     "traceback": [
      "\u001b[1;31m---------------------------------------------------------------------------\u001b[0m",
      "\u001b[1;31mPermissionError\u001b[0m                           Traceback (most recent call last)",
      "\u001b[1;32m<ipython-input-43-c0a4436a9f94>\u001b[0m in \u001b[0;36m<module>\u001b[1;34m\u001b[0m\n\u001b[0;32m      4\u001b[0m \u001b[1;31m# Save the predictionsA\u001b[0m\u001b[1;33m\u001b[0m\u001b[1;33m\u001b[0m\u001b[1;33m\u001b[0m\u001b[0m\n\u001b[0;32m      5\u001b[0m \u001b[0msub\u001b[0m\u001b[1;33m[\u001b[0m\u001b[1;34m'SurvivalStatus'\u001b[0m\u001b[1;33m]\u001b[0m \u001b[1;33m=\u001b[0m \u001b[0mmodel\u001b[0m\u001b[1;33m.\u001b[0m\u001b[0mpredict\u001b[0m\u001b[1;33m(\u001b[0m\u001b[0mdtest\u001b[0m\u001b[1;33m,\u001b[0m \u001b[0mntree_limit\u001b[0m\u001b[1;33m=\u001b[0m\u001b[0mmodel\u001b[0m\u001b[1;33m.\u001b[0m\u001b[0mbest_ntree_limit\u001b[0m\u001b[1;33m)\u001b[0m\u001b[1;33m\u001b[0m\u001b[1;33m\u001b[0m\u001b[0m\n\u001b[1;32m----> 6\u001b[1;33m \u001b[0msub\u001b[0m\u001b[1;33m.\u001b[0m\u001b[0mto_csv\u001b[0m\u001b[1;33m(\u001b[0m\u001b[1;34m'Xgb_Test001.csv'\u001b[0m\u001b[1;33m,\u001b[0m \u001b[0mfloat_format\u001b[0m\u001b[1;33m=\u001b[0m\u001b[1;34m'%.8f'\u001b[0m\u001b[1;33m,\u001b[0m \u001b[0mindex\u001b[0m\u001b[1;33m=\u001b[0m\u001b[1;32mFalse\u001b[0m\u001b[1;33m)\u001b[0m\u001b[1;33m\u001b[0m\u001b[1;33m\u001b[0m\u001b[0m\n\u001b[0m",
      "\u001b[1;32m~\\Anaconda3\\lib\\site-packages\\pandas\\core\\frame.py\u001b[0m in \u001b[0;36mto_csv\u001b[1;34m(self, path_or_buf, sep, na_rep, float_format, columns, header, index, index_label, mode, encoding, compression, quoting, quotechar, line_terminator, chunksize, tupleize_cols, date_format, doublequote, escapechar, decimal)\u001b[0m\n\u001b[0;32m   1743\u001b[0m                                  \u001b[0mdoublequote\u001b[0m\u001b[1;33m=\u001b[0m\u001b[0mdoublequote\u001b[0m\u001b[1;33m,\u001b[0m\u001b[1;33m\u001b[0m\u001b[1;33m\u001b[0m\u001b[0m\n\u001b[0;32m   1744\u001b[0m                                  escapechar=escapechar, decimal=decimal)\n\u001b[1;32m-> 1745\u001b[1;33m         \u001b[0mformatter\u001b[0m\u001b[1;33m.\u001b[0m\u001b[0msave\u001b[0m\u001b[1;33m(\u001b[0m\u001b[1;33m)\u001b[0m\u001b[1;33m\u001b[0m\u001b[1;33m\u001b[0m\u001b[0m\n\u001b[0m\u001b[0;32m   1746\u001b[0m \u001b[1;33m\u001b[0m\u001b[0m\n\u001b[0;32m   1747\u001b[0m         \u001b[1;32mif\u001b[0m \u001b[0mpath_or_buf\u001b[0m \u001b[1;32mis\u001b[0m \u001b[1;32mNone\u001b[0m\u001b[1;33m:\u001b[0m\u001b[1;33m\u001b[0m\u001b[1;33m\u001b[0m\u001b[0m\n",
      "\u001b[1;32m~\\Anaconda3\\lib\\site-packages\\pandas\\io\\formats\\csvs.py\u001b[0m in \u001b[0;36msave\u001b[1;34m(self)\u001b[0m\n\u001b[0;32m    154\u001b[0m             f, handles = _get_handle(self.path_or_buf, self.mode,\n\u001b[0;32m    155\u001b[0m                                      \u001b[0mencoding\u001b[0m\u001b[1;33m=\u001b[0m\u001b[0mencoding\u001b[0m\u001b[1;33m,\u001b[0m\u001b[1;33m\u001b[0m\u001b[1;33m\u001b[0m\u001b[0m\n\u001b[1;32m--> 156\u001b[1;33m                                      compression=self.compression)\n\u001b[0m\u001b[0;32m    157\u001b[0m             \u001b[0mclose\u001b[0m \u001b[1;33m=\u001b[0m \u001b[1;32mTrue\u001b[0m\u001b[1;33m\u001b[0m\u001b[1;33m\u001b[0m\u001b[0m\n\u001b[0;32m    158\u001b[0m \u001b[1;33m\u001b[0m\u001b[0m\n",
      "\u001b[1;32m~\\Anaconda3\\lib\\site-packages\\pandas\\io\\common.py\u001b[0m in \u001b[0;36m_get_handle\u001b[1;34m(path_or_buf, mode, encoding, compression, memory_map, is_text)\u001b[0m\n\u001b[0;32m    398\u001b[0m         \u001b[1;32melif\u001b[0m \u001b[0mencoding\u001b[0m\u001b[1;33m:\u001b[0m\u001b[1;33m\u001b[0m\u001b[1;33m\u001b[0m\u001b[0m\n\u001b[0;32m    399\u001b[0m             \u001b[1;31m# Python 3 and encoding\u001b[0m\u001b[1;33m\u001b[0m\u001b[1;33m\u001b[0m\u001b[1;33m\u001b[0m\u001b[0m\n\u001b[1;32m--> 400\u001b[1;33m             \u001b[0mf\u001b[0m \u001b[1;33m=\u001b[0m \u001b[0mopen\u001b[0m\u001b[1;33m(\u001b[0m\u001b[0mpath_or_buf\u001b[0m\u001b[1;33m,\u001b[0m \u001b[0mmode\u001b[0m\u001b[1;33m,\u001b[0m \u001b[0mencoding\u001b[0m\u001b[1;33m=\u001b[0m\u001b[0mencoding\u001b[0m\u001b[1;33m)\u001b[0m\u001b[1;33m\u001b[0m\u001b[1;33m\u001b[0m\u001b[0m\n\u001b[0m\u001b[0;32m    401\u001b[0m         \u001b[1;32melif\u001b[0m \u001b[0mis_text\u001b[0m\u001b[1;33m:\u001b[0m\u001b[1;33m\u001b[0m\u001b[1;33m\u001b[0m\u001b[0m\n\u001b[0;32m    402\u001b[0m             \u001b[1;31m# Python 3 and no explicit encoding\u001b[0m\u001b[1;33m\u001b[0m\u001b[1;33m\u001b[0m\u001b[1;33m\u001b[0m\u001b[0m\n",
      "\u001b[1;31mPermissionError\u001b[0m: [Errno 13] Permission denied: 'Xgb_Test001.csv'"
     ]
    }
   ],
   "source": [
    "dtest = xgb.DMatrix(df_test_x)\n",
    "\n",
    "# Save the predictionsA\n",
    "sub['SurvivalStatus'] = model.predict(dtest, ntree_limit=model.best_ntree_limit) #模型預測出來也裝進真實值\n",
    "sub.to_csv('Xgb_Test001.csv', float_format='%.8f', index=False) #存檔並保存多少為小數點"
   ]
  },
  {
   "cell_type": "code",
   "execution_count": 44,
   "metadata": {
    "scrolled": false
   },
   "outputs": [
    {
     "data": {
      "text/html": [
       "<div>\n",
       "<style scoped>\n",
       "    .dataframe tbody tr th:only-of-type {\n",
       "        vertical-align: middle;\n",
       "    }\n",
       "\n",
       "    .dataframe tbody tr th {\n",
       "        vertical-align: top;\n",
       "    }\n",
       "\n",
       "    .dataframe thead th {\n",
       "        text-align: right;\n",
       "    }\n",
       "</style>\n",
       "<table border=\"1\" class=\"dataframe\">\n",
       "  <thead>\n",
       "    <tr style=\"text-align: right;\">\n",
       "      <th></th>\n",
       "      <th>SurvivalStatus</th>\n",
       "    </tr>\n",
       "    <tr>\n",
       "      <th>UID</th>\n",
       "      <th></th>\n",
       "    </tr>\n",
       "  </thead>\n",
       "  <tbody>\n",
       "    <tr>\n",
       "      <th>6800559</th>\n",
       "      <td>1</td>\n",
       "    </tr>\n",
       "    <tr>\n",
       "      <th>6800586</th>\n",
       "      <td>1</td>\n",
       "    </tr>\n",
       "    <tr>\n",
       "      <th>6800803</th>\n",
       "      <td>1</td>\n",
       "    </tr>\n",
       "    <tr>\n",
       "      <th>6802198</th>\n",
       "      <td>1</td>\n",
       "    </tr>\n",
       "    <tr>\n",
       "      <th>6803108</th>\n",
       "      <td>1</td>\n",
       "    </tr>\n",
       "    <tr>\n",
       "      <th>6803682</th>\n",
       "      <td>1</td>\n",
       "    </tr>\n",
       "    <tr>\n",
       "      <th>6804635</th>\n",
       "      <td>1</td>\n",
       "    </tr>\n",
       "    <tr>\n",
       "      <th>6804645</th>\n",
       "      <td>0</td>\n",
       "    </tr>\n",
       "    <tr>\n",
       "      <th>6805333</th>\n",
       "      <td>0</td>\n",
       "    </tr>\n",
       "    <tr>\n",
       "      <th>6805512</th>\n",
       "      <td>1</td>\n",
       "    </tr>\n",
       "    <tr>\n",
       "      <th>6805585</th>\n",
       "      <td>0</td>\n",
       "    </tr>\n",
       "    <tr>\n",
       "      <th>6806521</th>\n",
       "      <td>1</td>\n",
       "    </tr>\n",
       "    <tr>\n",
       "      <th>6806617</th>\n",
       "      <td>0</td>\n",
       "    </tr>\n",
       "    <tr>\n",
       "      <th>6807876</th>\n",
       "      <td>1</td>\n",
       "    </tr>\n",
       "    <tr>\n",
       "      <th>6808787</th>\n",
       "      <td>1</td>\n",
       "    </tr>\n",
       "    <tr>\n",
       "      <th>6810544</th>\n",
       "      <td>0</td>\n",
       "    </tr>\n",
       "    <tr>\n",
       "      <th>6812495</th>\n",
       "      <td>0</td>\n",
       "    </tr>\n",
       "    <tr>\n",
       "      <th>6813260</th>\n",
       "      <td>1</td>\n",
       "    </tr>\n",
       "    <tr>\n",
       "      <th>6813817</th>\n",
       "      <td>1</td>\n",
       "    </tr>\n",
       "    <tr>\n",
       "      <th>6813956</th>\n",
       "      <td>0</td>\n",
       "    </tr>\n",
       "    <tr>\n",
       "      <th>6814520</th>\n",
       "      <td>0</td>\n",
       "    </tr>\n",
       "    <tr>\n",
       "      <th>6814706</th>\n",
       "      <td>1</td>\n",
       "    </tr>\n",
       "    <tr>\n",
       "      <th>6817765</th>\n",
       "      <td>0</td>\n",
       "    </tr>\n",
       "    <tr>\n",
       "      <th>6818537</th>\n",
       "      <td>1</td>\n",
       "    </tr>\n",
       "    <tr>\n",
       "      <th>6818849</th>\n",
       "      <td>0</td>\n",
       "    </tr>\n",
       "    <tr>\n",
       "      <th>6819402</th>\n",
       "      <td>0</td>\n",
       "    </tr>\n",
       "    <tr>\n",
       "      <th>6819707</th>\n",
       "      <td>1</td>\n",
       "    </tr>\n",
       "    <tr>\n",
       "      <th>6820076</th>\n",
       "      <td>0</td>\n",
       "    </tr>\n",
       "    <tr>\n",
       "      <th>6821107</th>\n",
       "      <td>0</td>\n",
       "    </tr>\n",
       "    <tr>\n",
       "      <th>6821228</th>\n",
       "      <td>1</td>\n",
       "    </tr>\n",
       "    <tr>\n",
       "      <th>...</th>\n",
       "      <td>...</td>\n",
       "    </tr>\n",
       "    <tr>\n",
       "      <th>9350076</th>\n",
       "      <td>0</td>\n",
       "    </tr>\n",
       "    <tr>\n",
       "      <th>9350132</th>\n",
       "      <td>0</td>\n",
       "    </tr>\n",
       "    <tr>\n",
       "      <th>9350558</th>\n",
       "      <td>1</td>\n",
       "    </tr>\n",
       "    <tr>\n",
       "      <th>9350980</th>\n",
       "      <td>1</td>\n",
       "    </tr>\n",
       "    <tr>\n",
       "      <th>9351355</th>\n",
       "      <td>1</td>\n",
       "    </tr>\n",
       "    <tr>\n",
       "      <th>9352517</th>\n",
       "      <td>1</td>\n",
       "    </tr>\n",
       "    <tr>\n",
       "      <th>9352819</th>\n",
       "      <td>1</td>\n",
       "    </tr>\n",
       "    <tr>\n",
       "      <th>9353531</th>\n",
       "      <td>1</td>\n",
       "    </tr>\n",
       "    <tr>\n",
       "      <th>9358168</th>\n",
       "      <td>0</td>\n",
       "    </tr>\n",
       "    <tr>\n",
       "      <th>9360346</th>\n",
       "      <td>0</td>\n",
       "    </tr>\n",
       "    <tr>\n",
       "      <th>9361430</th>\n",
       "      <td>1</td>\n",
       "    </tr>\n",
       "    <tr>\n",
       "      <th>9361457</th>\n",
       "      <td>1</td>\n",
       "    </tr>\n",
       "    <tr>\n",
       "      <th>9364019</th>\n",
       "      <td>0</td>\n",
       "    </tr>\n",
       "    <tr>\n",
       "      <th>9364086</th>\n",
       "      <td>1</td>\n",
       "    </tr>\n",
       "    <tr>\n",
       "      <th>9366161</th>\n",
       "      <td>0</td>\n",
       "    </tr>\n",
       "    <tr>\n",
       "      <th>9370178</th>\n",
       "      <td>1</td>\n",
       "    </tr>\n",
       "    <tr>\n",
       "      <th>9371979</th>\n",
       "      <td>1</td>\n",
       "    </tr>\n",
       "    <tr>\n",
       "      <th>9373517</th>\n",
       "      <td>1</td>\n",
       "    </tr>\n",
       "    <tr>\n",
       "      <th>9379727</th>\n",
       "      <td>1</td>\n",
       "    </tr>\n",
       "    <tr>\n",
       "      <th>9379751</th>\n",
       "      <td>1</td>\n",
       "    </tr>\n",
       "    <tr>\n",
       "      <th>9384738</th>\n",
       "      <td>1</td>\n",
       "    </tr>\n",
       "    <tr>\n",
       "      <th>9388299</th>\n",
       "      <td>1</td>\n",
       "    </tr>\n",
       "    <tr>\n",
       "      <th>9389680</th>\n",
       "      <td>1</td>\n",
       "    </tr>\n",
       "    <tr>\n",
       "      <th>9392247</th>\n",
       "      <td>1</td>\n",
       "    </tr>\n",
       "    <tr>\n",
       "      <th>9393881</th>\n",
       "      <td>1</td>\n",
       "    </tr>\n",
       "    <tr>\n",
       "      <th>9397294</th>\n",
       "      <td>1</td>\n",
       "    </tr>\n",
       "    <tr>\n",
       "      <th>9398202</th>\n",
       "      <td>1</td>\n",
       "    </tr>\n",
       "    <tr>\n",
       "      <th>9404067</th>\n",
       "      <td>1</td>\n",
       "    </tr>\n",
       "    <tr>\n",
       "      <th>9406340</th>\n",
       "      <td>1</td>\n",
       "    </tr>\n",
       "    <tr>\n",
       "      <th>9410205</th>\n",
       "      <td>1</td>\n",
       "    </tr>\n",
       "  </tbody>\n",
       "</table>\n",
       "<p>1310 rows × 1 columns</p>\n",
       "</div>"
      ],
      "text/plain": [
       "         SurvivalStatus\n",
       "UID                    \n",
       "6800559               1\n",
       "6800586               1\n",
       "6800803               1\n",
       "6802198               1\n",
       "6803108               1\n",
       "6803682               1\n",
       "6804635               1\n",
       "6804645               0\n",
       "6805333               0\n",
       "6805512               1\n",
       "6805585               0\n",
       "6806521               1\n",
       "6806617               0\n",
       "6807876               1\n",
       "6808787               1\n",
       "6810544               0\n",
       "6812495               0\n",
       "6813260               1\n",
       "6813817               1\n",
       "6813956               0\n",
       "6814520               0\n",
       "6814706               1\n",
       "6817765               0\n",
       "6818537               1\n",
       "6818849               0\n",
       "6819402               0\n",
       "6819707               1\n",
       "6820076               0\n",
       "6821107               0\n",
       "6821228               1\n",
       "...                 ...\n",
       "9350076               0\n",
       "9350132               0\n",
       "9350558               1\n",
       "9350980               1\n",
       "9351355               1\n",
       "9352517               1\n",
       "9352819               1\n",
       "9353531               1\n",
       "9358168               0\n",
       "9360346               0\n",
       "9361430               1\n",
       "9361457               1\n",
       "9364019               0\n",
       "9364086               1\n",
       "9366161               0\n",
       "9370178               1\n",
       "9371979               1\n",
       "9373517               1\n",
       "9379727               1\n",
       "9379751               1\n",
       "9384738               1\n",
       "9388299               1\n",
       "9389680               1\n",
       "9392247               1\n",
       "9393881               1\n",
       "9397294               1\n",
       "9398202               1\n",
       "9404067               1\n",
       "9406340               1\n",
       "9410205               1\n",
       "\n",
       "[1310 rows x 1 columns]"
      ]
     },
     "execution_count": 44,
     "metadata": {},
     "output_type": "execute_result"
    }
   ],
   "source": [
    "df_test_y"
   ]
  },
  {
   "cell_type": "code",
   "execution_count": 45,
   "metadata": {},
   "outputs": [
    {
     "data": {
      "text/plain": [
       "0.9032021151586369"
      ]
     },
     "execution_count": 45,
     "metadata": {},
     "output_type": "execute_result"
    }
   ],
   "source": [
    "#拿真實答案和預測答案做比對\n",
    "\n",
    "from sklearn.metrics import roc_auc_score\n",
    "roc_auc_score(df_test_y, sub)"
   ]
  },
  {
   "cell_type": "markdown",
   "metadata": {},
   "source": [
    "# 隨機森林"
   ]
  },
  {
   "cell_type": "code",
   "execution_count": 25,
   "metadata": {},
   "outputs": [],
   "source": [
    "df_train_x = df_train_x.fillna(0)"
   ]
  },
  {
   "cell_type": "code",
   "execution_count": 26,
   "metadata": {},
   "outputs": [
    {
     "name": "stderr",
     "output_type": "stream",
     "text": [
      "C:\\Users\\user\\Anaconda3\\lib\\site-packages\\ipykernel_launcher.py:3: DataConversionWarning: A column-vector y was passed when a 1d array was expected. Please change the shape of y to (n_samples,), for example using ravel().\n",
      "  This is separate from the ipykernel package so we can avoid doing imports until\n"
     ]
    },
    {
     "data": {
      "text/plain": [
       "RandomForestClassifier(bootstrap=True, class_weight=None, criterion='entropy',\n",
       "            max_depth=None, max_features='auto', max_leaf_nodes=None,\n",
       "            min_impurity_decrease=0.0, min_impurity_split=None,\n",
       "            min_samples_leaf=1, min_samples_split=2,\n",
       "            min_weight_fraction_leaf=0.0, n_estimators=10, n_jobs=2,\n",
       "            oob_score=False, random_state=3, verbose=0, warm_start=False)"
      ]
     },
     "execution_count": 26,
     "metadata": {},
     "output_type": "execute_result"
    }
   ],
   "source": [
    "from sklearn.ensemble import RandomForestClassifier\n",
    "forest=RandomForestClassifier(criterion='entropy',n_estimators=10,random_state=3,n_jobs=2)\n",
    "forest.fit(df_train_x, df_train_y)"
   ]
  },
  {
   "cell_type": "code",
   "execution_count": 27,
   "metadata": {},
   "outputs": [],
   "source": [
    "df_test_x = df_test_x.fillna(0)"
   ]
  },
  {
   "cell_type": "code",
   "execution_count": 29,
   "metadata": {},
   "outputs": [
    {
     "name": "stdout",
     "output_type": "stream",
     "text": [
      "              precision    recall  f1-score   support\n",
      "\n",
      "    target 0       0.00      0.00      0.00       715\n",
      "    target 1       0.41      0.84      0.55       595\n",
      "\n",
      "   micro avg       0.38      0.38      0.38      1310\n",
      "   macro avg       0.21      0.42      0.28      1310\n",
      "weighted avg       0.19      0.38      0.25      1310\n",
      "\n"
     ]
    }
   ],
   "source": [
    "predict=forest.predict(df_test_x)\n",
    "from sklearn import metrics\n",
    "print(metrics.classification_report(df_test_y, predict,target_names=['target 0', 'target 1']))"
   ]
  },
  {
   "cell_type": "markdown",
   "metadata": {},
   "source": [
    "# LightGbm (只能數值) (先不用)"
   ]
  },
  {
   "cell_type": "code",
   "execution_count": null,
   "metadata": {},
   "outputs": [],
   "source": [
    "df_train_x.head(3)"
   ]
  },
  {
   "cell_type": "code",
   "execution_count": null,
   "metadata": {},
   "outputs": [],
   "source": [
    "#df_train_x.drop(['FirstVIPKind'], axis=1, inplace=True)\n",
    "#df_test_x.drop(['FirstVIPKind'], axis=1, inplace=True)\n",
    "df_train_x.drop(['VIPGetTime'], axis=1, inplace=True)\n",
    "df_test_x.drop(['VIPGetTime'], axis=1, inplace=True)"
   ]
  },
  {
   "cell_type": "code",
   "execution_count": null,
   "metadata": {},
   "outputs": [],
   "source": [
    "import lightgbm as lgb\n",
    "import matplotlib.pyplot as plt\n",
    "from sklearn.model_selection import GridSearchCV\n",
    "\n",
    "train = lgb.Dataset(df_train_x, df_train_y)\n",
    "valid = lgb.Dataset(df_test_x, df_test_y, reference=train)"
   ]
  },
  {
   "cell_type": "code",
   "execution_count": null,
   "metadata": {},
   "outputs": [],
   "source": [
    "ytest=df_test_y.astype('int')\n",
    "# 導入到lightgbm矩陣\n",
    "lgb_train = lgb.Dataset(df_train_x,df_train_y)\n",
    "lgb_test = lgb.Dataset(df_test_x, df_test_y, reference=lgb_train)\n",
    "\n",
    "# 設置參數\n",
    "params = {\n",
    "    'num_leaves': 100,\n",
    "    'num_trees':2000,\n",
    "    'metric': ('auc', 'logloss'),#可以設置多個評價指標\n",
    "   # 'verbose': 0,\n",
    "    'max_depth': 1000,\n",
    "    'learning_rate': 0.05,\n",
    "     #'feature_fraction': 0.7,\n",
    "     #'bagging_fraction': 0.8,\n",
    "    'objective':'binary'\n",
    "    \n",
    "}\n",
    "# if (evals_result and gbm) not in locbals():\n",
    "    # global evals_result,gbm \n",
    "#如果是局部變量的話，推薦把他們變成全局變量，這樣plot的代碼位置不受限制\n",
    "evals_result = {}  #記錄訓練結果所用\n",
    "\n",
    "print('開始訓練...')\n",
    "# train\n",
    "\n",
    "gbm = lgb.train(params,\n",
    "                lgb_train,\n",
    "                num_boost_round=2000,\n",
    "                valid_sets=[lgb_train, lgb_test],\n",
    "                evals_result=evals_result,#非常重要的參數,一定要明確設置\n",
    "                verbose_eval=100)\n",
    "\n",
    "print('畫出訓練結果...')\n",
    "ax = lgb.plot_metric(evals_result, metric='auc')#metric的值與之前的params裏面的值對應\n",
    "plt.show()\n",
    "\n",
    "print('畫特徵重要性排序...')\n",
    "ax = lgb.plot_importance(gbm, max_num_features=150)#max_features表示最多展示出前10個重要性特徵，可以自行設置\n",
    "plt.show()\n",
    "\n",
    "from sklearn import metrics\n",
    "predict=gbm.predict(df_test_x)\n",
    "#判斷1或0\n",
    "predict=pd.DataFrame(predict)[0].apply(lambda x: 1 if x > 0.5 else 0)\n",
    "print(metrics.classification_report(df_test_y,predict,target_names=['target 0', 'target 1']))"
   ]
  },
  {
   "cell_type": "code",
   "execution_count": null,
   "metadata": {},
   "outputs": [],
   "source": [
    "#準確率\n",
    "\n",
    "from sklearn.metrics import accuracy_score\n",
    "accuracy_score(df_test_y, predict) # Return the number of correctly classified samples"
   ]
  },
  {
   "cell_type": "code",
   "execution_count": null,
   "metadata": {},
   "outputs": [],
   "source": [
    "from sklearn.metrics import roc_auc_score\n",
    "roc_auc_score(df_test_y, predict)"
   ]
  },
  {
   "cell_type": "code",
   "execution_count": null,
   "metadata": {},
   "outputs": [],
   "source": []
  },
  {
   "cell_type": "code",
   "execution_count": null,
   "metadata": {},
   "outputs": [],
   "source": []
  },
  {
   "cell_type": "code",
   "execution_count": null,
   "metadata": {},
   "outputs": [],
   "source": []
  }
 ],
 "metadata": {
  "kernelspec": {
   "display_name": "Python 3",
   "language": "python",
   "name": "python3"
  },
  "language_info": {
   "codemirror_mode": {
    "name": "ipython",
    "version": 3
   },
   "file_extension": ".py",
   "mimetype": "text/x-python",
   "name": "python",
   "nbconvert_exporter": "python",
   "pygments_lexer": "ipython3",
   "version": "3.7.3"
  }
 },
 "nbformat": 4,
 "nbformat_minor": 2
}
